{
 "cells": [
  {
   "cell_type": "markdown",
   "metadata": {},
   "source": [
    "## Generate Audio File From Note String"
   ]
  },
  {
   "cell_type": "code",
   "execution_count": 11,
   "metadata": {},
   "outputs": [],
   "source": [
    "import numpy as np\n",
    "from scipy.io.wavfile import write"
   ]
  },
  {
   "cell_type": "code",
   "execution_count": 12,
   "metadata": {},
   "outputs": [
    {
     "name": "stdout",
     "output_type": "stream",
     "text": [
      "['c' '1' 'c' '1' 'c' '1' 'g' '1' 'g' '1' 'a' '1' 'a' '1' 'B' '1' 'C' '1'\n",
      " 'C' '1' 'a' '1' 'a' '1' 'f' '1' 'f' '1' 'f' '1' 'f' '1' 'E' '1' 'E' '1']\n"
     ]
    }
   ],
   "source": [
    "x = np.array([[[['c', 1], ['c', 1], ['c', 1], ['g', 1], ['g', 1], ['a', 1], ['a', 1], ['B', 1], ['C', 1], ['C', 1], ['a', 1], ['a', 1], ['f', 1], ['f', 1], ['f', 1], ['f', 1], ['E', 1], ['E', 1]]]])\n",
    "music_notes = x.flatten()\n",
    "print(music_notes)"
   ]
  },
  {
   "cell_type": "code",
   "execution_count": 23,
   "metadata": {},
   "outputs": [],
   "source": [
    "#Sampling Rate\n",
    "samplerate = 44100 \n",
    "\n",
    "def getWave(freq, timeCount):\n",
    "\n",
    "    oneCountTime = 1\n",
    "\n",
    "    duration = (float)(timeCount) * oneCountTime\n",
    "    amplitude = 4096\n",
    "    t = np.linspace(0, duration, int(samplerate * duration))\n",
    "    wave = amplitude * np.sin(2 * np.pi * freq * t)\n",
    "    \n",
    "    return wave"
   ]
  },
  {
   "cell_type": "code",
   "execution_count": 24,
   "metadata": {},
   "outputs": [],
   "source": [
    "def getPianoNotes():\n",
    "\n",
    "    # Returns a dict object for all the piano note's frequencies\n",
    "    lowerOctaveFreq = []\n",
    "    highOctaveFreq = []\n",
    "\n",
    "    lowerOctaveNotes = ['c', 'c$', 'd', 'd$', 'e', 'f', 'f$', 'g', 'g$', 'a','a$', 'b']\n",
    "    highOctaveNotes = ['C', 'c#', 'D', 'd#', 'E', 'F', 'f#', 'G', 'g#', 'A', 'a#', 'B'] \n",
    "    \n",
    "    base_freq = 261.63 #Frequency of Note C4\n",
    "    highOctaveFreqMap = {highOctaveNotes[i]: base_freq * pow(2,(i/12)) for i in range(len(highOctaveNotes))}        \n",
    "    highOctaveFreqMap[''] = 0.0 # silent note\n",
    "\n",
    "\n",
    "    base_freq = 130.81 #Frequency of Note C4\n",
    "    lowOctaveFreqMap = {lowerOctaveNotes[i]: base_freq * pow(2,(i/12)) for i in range(len(lowerOctaveNotes))}        \n",
    "    lowOctaveFreqMap[' '] = 0.0 # silent note\n",
    "\n",
    "\n",
    "    noteFreq = lowOctaveFreqMap\n",
    "    noteFreq.update(highOctaveFreqMap)\n",
    "    \n",
    "    return noteFreq"
   ]
  },
  {
   "cell_type": "code",
   "execution_count": 25,
   "metadata": {},
   "outputs": [
    {
     "name": "stdout",
     "output_type": "stream",
     "text": [
      "{'c': 130.81, 'c$': 138.58836737313942, 'd': 146.8292605393491, 'd$': 155.56018271350595, 'e': 164.81027253674836, 'f': 174.6104013239822, 'f$': 184.99327609402457, 'g': 195.9935487262387, 'g$': 207.64793160796017, 'a': 219.9953201586768, 'a$': 233.07692263987556, 'b': 246.93639768378463, ' ': 0.0, 'C': 261.63, 'c#': 277.18732937722245, 'D': 293.66974569918125, 'd#': 311.1322574981619, 'E': 329.63314428399565, 'F': 349.2341510465061, 'f#': 370.00069432367286, 'G': 392.0020805232462, 'g#': 415.31173722644, 'A': 440.00745824565865, 'a#': 466.1716632541139, 'B': 493.8916728538229, '': 0.0}\n"
     ]
    }
   ],
   "source": [
    "# To get the piano note's frequencies\n",
    "note_freqs = getPianoNotes()\n",
    "print(note_freqs)"
   ]
  },
  {
   "cell_type": "code",
   "execution_count": 26,
   "metadata": {},
   "outputs": [],
   "source": [
    "def isAlpha(c):\n",
    "    if((c >= 'a' and c <= 'z') or (c >= 'A' or c <= 'Z')):\n",
    "        return \"TRUE\"\n",
    "    \n",
    "    return \"FALSE\"\n",
    "\n",
    "# Step 1:\n",
    "    # \"c2b1C0\" -> \"c   b  C\"\n",
    "    # insert spaces based on timeCount\n",
    "# Step 2:\n",
    "    # use map to get song\n",
    "\n",
    "def getSongData(music_notes):\n",
    "    i = 0\n",
    "    song = []\n",
    "    while(i < len(music_notes)):\n",
    "        currentNote = music_notes[i]\n",
    "        currentTime = music_notes[i+1]\n",
    "        currentFreq = note_freqs[currentNote]\n",
    "\n",
    "        currentNoteSong = getWave(currentFreq, currentTime)\n",
    "        song = np.append(song,currentNoteSong)\n",
    "\n",
    "        i = i + 2 \n",
    "\n",
    "    # SONG = np.array(song)\n",
    "    return song"
   ]
  },
  {
   "cell_type": "code",
   "execution_count": 27,
   "metadata": {},
   "outputs": [],
   "source": [
    "# music_notes = 'C1D2E4F1G2A4B1'\n",
    "Highdata = getSongData(music_notes)"
   ]
  },
  {
   "cell_type": "code",
   "execution_count": 28,
   "metadata": {},
   "outputs": [],
   "source": [
    "write('Highabcd.wav', samplerate, Highdata.astype(np.int16))"
   ]
  },
  {
   "cell_type": "code",
   "execution_count": null,
   "metadata": {},
   "outputs": [],
   "source": []
  }
 ],
 "metadata": {
  "kernelspec": {
   "display_name": "Python 3.8.10 64-bit",
   "language": "python",
   "name": "python3"
  },
  "language_info": {
   "codemirror_mode": {
    "name": "ipython",
    "version": 3
   },
   "file_extension": ".py",
   "mimetype": "text/x-python",
   "name": "python",
   "nbconvert_exporter": "python",
   "pygments_lexer": "ipython3",
   "version": "3.8.10"
  },
  "orig_nbformat": 4,
  "vscode": {
   "interpreter": {
    "hash": "31f2aee4e71d21fbe5cf8b01ff0e069b9275f58929596ceb00d14d90e3e16cd6"
   }
  }
 },
 "nbformat": 4,
 "nbformat_minor": 2
}
